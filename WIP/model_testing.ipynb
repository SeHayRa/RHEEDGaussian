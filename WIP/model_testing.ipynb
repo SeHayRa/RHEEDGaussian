{
 "cells": [
  {
   "cell_type": "code",
   "execution_count": 1,
   "metadata": {},
   "outputs": [],
   "source": [
    "import h5py\n",
    "import matplotlib.pyplot as plt\n",
    "import torch\n",
    "from torch.utils.data import Dataset, DataLoader\n",
    "import torchvision\n",
    "from torch.nn.utils import clip_grad_norm_\n",
    "import torch.nn as nn\n",
    "import torch.optim as optim\n",
    "from torchvision.transforms import Resize\n",
    "import torch.nn.functional as F\n",
    "import torchvision.transforms as T\n",
    "from torchvision import datasets, transforms\n",
    "from torch.autograd import Variable\n",
    "import math\n",
    "import re\n",
    "import numpy as np\n",
    "from scipy.optimize import least_squares\n",
    "from dask import delayed, compute\n",
    "from dask.distributed import Client"
   ]
  },
  {
   "cell_type": "code",
   "execution_count": 7,
   "metadata": {},
   "outputs": [],
   "source": [
    "class LeNet5_inference(nn.Module):\n",
    "     def __init__(self,num_classes):\n",
    "        super(LeNet5_inference, self).__init__()\n",
    "        self.layer1 = nn.Sequential(\n",
    "            nn.Conv2d(1, 6, kernel_size=5, stride=1, padding=0),\n",
    "            nn.BatchNorm2d(6),\n",
    "            nn.ReLU(),\n",
    "            nn.MaxPool2d(kernel_size = 4, stride = 4))\n",
    "        self.layer2 = nn.Sequential(\n",
    "            nn.Conv2d(6, 16, kernel_size=5, stride=1, padding=0),\n",
    "            nn.BatchNorm2d(16),\n",
    "            nn.ReLU(),\n",
    "            nn.MaxPool2d(kernel_size = 2, stride = 2))\n",
    "        self.fc = nn.Linear(144, 48)\n",
    "        self.relu = nn.ReLU()\n",
    "        self.fc1 = nn.Linear(48, 24)\n",
    "        self.relu1 = nn.ReLU()\n",
    "        self.fc2 = nn.Linear(24, num_classes)\n",
    "        self.flatten=nn.Flatten()\n",
    "        \n",
    "\n",
    "     def forward(self, x):\n",
    "        x=x.float()\n",
    "        out = self.layer1(x)\n",
    "        out = self.layer2(out)\n",
    "        out = self.flatten(out)\n",
    "        out = self.fc(out)\n",
    "        out = self.relu(out)\n",
    "        out = self.fc1(out)\n",
    "        out = self.relu1(out)\n",
    "        embedding = self.fc2(out)\n",
    "        \n",
    "        return embedding\n",
    "\n",
    "    \n"
   ]
  },
  {
   "cell_type": "code",
   "execution_count": 8,
   "metadata": {},
   "outputs": [
    {
     "data": {
      "text/plain": [
       "LeNet5_inference(\n",
       "  (layer1): Sequential(\n",
       "    (0): Conv2d(1, 6, kernel_size=(5, 5), stride=(1, 1))\n",
       "    (1): BatchNorm2d(6, eps=1e-05, momentum=0.1, affine=True, track_running_stats=True)\n",
       "    (2): ReLU()\n",
       "    (3): MaxPool2d(kernel_size=4, stride=4, padding=0, dilation=1, ceil_mode=False)\n",
       "  )\n",
       "  (layer2): Sequential(\n",
       "    (0): Conv2d(6, 16, kernel_size=(5, 5), stride=(1, 1))\n",
       "    (1): BatchNorm2d(16, eps=1e-05, momentum=0.1, affine=True, track_running_stats=True)\n",
       "    (2): ReLU()\n",
       "    (3): MaxPool2d(kernel_size=2, stride=2, padding=0, dilation=1, ceil_mode=False)\n",
       "  )\n",
       "  (fc): Linear(in_features=144, out_features=48, bias=True)\n",
       "  (relu): ReLU()\n",
       "  (fc1): Linear(in_features=48, out_features=24, bias=True)\n",
       "  (relu1): ReLU()\n",
       "  (fc2): Linear(in_features=24, out_features=5, bias=True)\n",
       "  (flatten): Flatten(start_dim=1, end_dim=-1)\n",
       ")"
      ]
     },
     "execution_count": 8,
     "metadata": {},
     "output_type": "execute_result"
    }
   ],
   "source": [
    "model_pytorch=LeNet5_inference(5)\n",
    "model_pytorch.load_state_dict(torch.load('../../PytorchLeNet_4848_new.pt'))\n",
    "model_pytorch.eval() \n"
   ]
  },
  {
   "cell_type": "code",
   "execution_count": 15,
   "metadata": {},
   "outputs": [
    {
     "name": "stdout",
     "output_type": "stream",
     "text": [
      "torch.Size([1, 1, 48, 48])\n",
      "[[22.97824624 19.38374692  9.89195362  6.17899623  0.48284804]]\n"
     ]
    }
   ],
   "source": [
    "path = '/home/ferroelectric/sean/RHEED_4848_test6.h5'\n",
    "\n",
    "var=np.array([5.46157544e+00, 2.40898228e-01, 9.97084168e+00, 2.41086445e+00, 1.50743760e-03])\n",
    "mean=np.array([22.47838205, 24.4851125, 16.8462797, 12.07150492, 0.62672398])\n",
    "\n",
    "with h5py.File(path, 'r') as h5:\n",
    "    img = h5['growth_6']['spot_2'][0]\n",
    "    img= img/img.max()\n",
    "img_tensor = torch.tensor(img).unsqueeze(0).unsqueeze(0)\n",
    "print(img_tensor.shape)\n",
    "with torch.no_grad():\n",
    "    output_pytorch = (model_pytorch(img_tensor)).numpy()\n",
    "\n",
    "output_pytorch = output_pytorch * (var ** 0.5) + (mean)\n",
    "        \n",
    "print(output_pytorch)\n"
   ]
  },
  {
   "cell_type": "code",
   "execution_count": 81,
   "metadata": {},
   "outputs": [],
   "source": [
    "import torch\n",
    "from torch.nn.utils import clip_grad_norm_\n",
    "from torch.utils.data import Dataset, DataLoader\n",
    "import torch.nn as nn\n",
    "import torch.optim as optim\n",
    "import numpy as np\n",
    "import math\n",
    "import matplotlib.pyplot as plt\n",
    "\n",
    "class Gaussian2DDataset(Dataset):\n",
    "    def __init__(self, size=128, img_dim=1000, testing = False):\n",
    "        self.size = size\n",
    "        self.img_dim = img_dim\n",
    "        self.testing = testing\n",
    "        self.images = []  # List to store generated images\n",
    "\n",
    "\n",
    "    def __len__(self):\n",
    "        return self.size\n",
    "\n",
    "    def __getitem__(self, idx):\n",
    "        middle = torch.rand(2) * self.img_dim / 5 + self.img_dim / 2  # random middle pt\n",
    "\n",
    "        middle=torch.abs(middle)\n",
    "        cov = torch.randn(2)/2 * 48 / 4 + 48 / 4 + 1e-3  # random covariance\n",
    "        cov=torch.abs(cov)\n",
    "        theta = torch.randn(1) * math.pi +1e-6 # random rotation angle\n",
    "        \n",
    "        \n",
    "\n",
    "        x = torch.arange(self.img_dim, dtype=torch.float32).reshape(-1, 1).repeat(1, self.img_dim)\n",
    "        \n",
    "\n",
    "        y = torch.arange(self.img_dim, dtype=torch.float32).reshape(1, -1).repeat(self.img_dim, 1)\n",
    "        \n",
    "\n",
    "        rota_matrix = torch.tensor([[torch.cos(theta), -torch.sin(theta)],\n",
    "                                    [torch.sin(theta), torch.cos(theta)]])\n",
    "\n",
    "        xy = torch.stack([x, y], dim=2)- middle  # shift to mean\n",
    "       \n",
    "        xy = torch.einsum('ijk,kl->ijl', xy, rota_matrix)  # rotation\n",
    "\n",
    "\n",
    "        img = torch.exp(-0.5 * (xy[:, :, 0]**2 / (cov[0]**2+1e-3) + xy[:, :, 1]**2 / (cov[1]**2+1e-3)))\n",
    "\n",
    "\n",
    "        img = img.unsqueeze(0)\n",
    "\n",
    "        img = img / img.max()\n",
    "        \n",
    "        self.images.append(img)\n",
    "\n",
    "        bbox = {\n",
    "        'center_x': middle[1],\n",
    "        'center_y': middle[0],\n",
    "        'width': 5 * cov[1],\n",
    "        'height': 5 * cov[0],\n",
    "        'theta': theta\n",
    "        }\n",
    "        \n",
    "        # return img_rgb, (middle, cov, theta, bbox)\n",
    "\n",
    "        return img, bbox\n",
    "\n",
    "\n"
   ]
  },
  {
   "cell_type": "code",
   "execution_count": 85,
   "metadata": {},
   "outputs": [
    {
     "name": "stdout",
     "output_type": "stream",
     "text": [
      "(48, 48)\n"
     ]
    },
    {
     "data": {
      "image/png": "[encoded data removed]",
      "text/plain": [
       "<Figure size 640x480 with 2 Axes>"
      ]
     },
     "metadata": {},
     "output_type": "display_data"
    },
    {
     "name": "stdout",
     "output_type": "stream",
     "text": [
      "{'center_x': tensor([24.4256]), 'center_y': tensor([31.9960]), 'width': tensor([64.7870]), 'height': tensor([63.3880]), 'theta': tensor([[0.5402]])}\n"
     ]
    }
   ],
   "source": [
    "def viz_generator(image):\n",
    "   \n",
    "    # Convert image tensor to NumPy array\n",
    "    image_np = image.numpy()\n",
    "    fig, ax = plt.subplots()\n",
    "    #ax.imshow(image_np.transpose(1, 2, 0))\n",
    "    heatmap = ax.imshow(image_np[0], cmap='viridis')\n",
    "    cbar = fig.colorbar(heatmap)\n",
    "    ax.set_title('Gaussian Image')\n",
    "    print(image_np[0].shape)\n",
    "\n",
    "    # Show the plot\n",
    "    plt.show()\n",
    "\n",
    "\n",
    "\n",
    "# Test the data generator\n",
    "dataset = Gaussian2DDataset(size=1, img_dim=48)\n",
    "dataloader = DataLoader(dataset, batch_size=1, shuffle=True)\n",
    "\n",
    "for images, bbox in dataloader:\n",
    "    viz_generator(images[0])\n",
    "    print(bbox)\n",
    "\n"
   ]
  },
  {
   "cell_type": "code",
   "execution_count": 90,
   "metadata": {},
   "outputs": [
    {
     "name": "stdout",
     "output_type": "stream",
     "text": [
      "[[24.93486748 28.38129492 18.62797651 11.99123318  1.21612407]]\n",
      "{'center_x': tensor([32.4771]), 'center_y': tensor([26.1829]), 'width': tensor([109.9789]), 'height': tensor([56.4350]), 'theta': tensor([[-0.2075]])}\n",
      "(48, 48)\n"
     ]
    },
    {
     "name": "stderr",
     "output_type": "stream",
     "text": [
      "/tmp/ipykernel_25548/609030619.py:2: UserWarning: To copy construct from a tensor, it is recommended to use sourceTensor.clone().detach() or sourceTensor.clone().detach().requires_grad_(True), rather than torch.tensor(sourceTensor).\n",
      "  img_tensor = torch.tensor(images)\n"
     ]
    },
    {
     "data": {
      "image/png": "[encoded data removed]",
      "text/plain": [
       "<Figure size 640x480 with 2 Axes>"
      ]
     },
     "metadata": {},
     "output_type": "display_data"
    }
   ],
   "source": [
    "\n",
    "for images, bbox in dataloader:\n",
    "    img_tensor = torch.tensor(images)\n",
    "    with torch.no_grad():\n",
    "        output_pytorch = (model_pytorch(img_tensor)).numpy()\n",
    "\n",
    "    output_pytorch = output_pytorch * (var ** 0.5) + (mean)\n",
    "        \n",
    "    print(output_pytorch)\n",
    "    print(bbox)\n",
    "    viz_generator(images[0])\n"
   ]
  },
  {
   "cell_type": "code",
   "execution_count": null,
   "metadata": {},
   "outputs": [],
   "source": []
  }
 ],
 "metadata": {
  "kernelspec": {
   "display_name": "hls",
   "language": "python",
   "name": "python3"
  },
  "language_info": {
   "codemirror_mode": {
    "name": "ipython",
    "version": 3
   },
   "file_extension": ".py",
   "mimetype": "text/x-python",
   "name": "python",
   "nbconvert_exporter": "python",
   "pygments_lexer": "ipython3",
   "version": "3.9.17"
  }
 },
 "nbformat": 4,
 "nbformat_minor": 2
}
