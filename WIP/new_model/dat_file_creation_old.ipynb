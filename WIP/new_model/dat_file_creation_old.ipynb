{
 "cells": [
  {
   "cell_type": "code",
   "execution_count": 1,
   "metadata": {},
   "outputs": [
    {
     "name": "stdout",
     "output_type": "stream",
     "text": [
      "True\n"
     ]
    }
   ],
   "source": [
    "%load_ext autoreload\n",
    "%autoreload 2\n",
    "\n",
    "import torch\n",
    "import torch.nn as nn\n",
    "import h5py\n",
    "print(torch.cuda.is_available())"
   ]
  },
  {
   "cell_type": "code",
   "execution_count": 2,
   "metadata": {},
   "outputs": [
    {
     "name": "stderr",
     "output_type": "stream",
     "text": [
      "2023-08-19 19:40:29.547149: I tensorflow/core/platform/cpu_feature_guard.cc:182] This TensorFlow binary is optimized to use available CPU instructions in performance-critical operations.\n",
      "To enable the following instructions: AVX2 FMA, in other operations, rebuild TensorFlow with the appropriate compiler flags.\n",
      "2023-08-19 19:40:30.060201: W tensorflow/compiler/tf2tensorrt/utils/py_utils.cc:38] TF-TRT Warning: Could not find TensorRT\n"
     ]
    },
    {
     "name": "stdout",
     "output_type": "stream",
     "text": [
      "True\n",
      "True\n",
      "['cat', 'concat', 'concatenate', 'add', 'mul', 'multiply', 'sub', 'subtract', 'fmin', 'minimum', 'fmax', 'maximum', 'Linear', 'Softmax', 'ReLU', 'LeakyReLU', 'Threshold', 'ELU', 'PReLU', 'Sigmoid', 'Tanh', 'BatchNorm2d', 'BatchNorm1d', 'Batch_norm', 'Flatten', 'View', 'MaxPool1d', 'MaxPool2d', 'AvgPool1d', 'AvgPool2d', 'Conv1d', 'Conv2d']\n"
     ]
    }
   ],
   "source": [
    "import hls4ml\n",
    "test = hls4ml.converters.get_supported_pytorch_layers()\n",
    "print('MaxPool2d' in test)\n",
    "print('MaxPool1d' in test)\n",
    "\n",
    "print(test)\n"
   ]
  },
  {
   "cell_type": "code",
   "execution_count": 3,
   "metadata": {},
   "outputs": [],
   "source": [
    "class LeNet5(nn.Module):\n",
    "     def __init__(self,num_classes, testing=False):\n",
    "        super(LeNet5, self).__init__()\n",
    "        self.layer1 = nn.Sequential(\n",
    "            nn.Conv2d(1, 6, kernel_size=5, stride=1, padding=0),\n",
    "            nn.BatchNorm2d(6),\n",
    "            nn.ReLU(),\n",
    "            nn.MaxPool2d(kernel_size = 4, stride = 4))\n",
    "        self.layer2 = nn.Sequential(\n",
    "            nn.Conv2d(6, 16, kernel_size=5, stride=1, padding=0),\n",
    "            nn.BatchNorm2d(16),\n",
    "            nn.ReLU(),\n",
    "            nn.MaxPool2d(kernel_size = 2, stride = 2))\n",
    "        self.fc = nn.Linear(48, 48)\n",
    "        self.relu = nn.ReLU()\n",
    "        self.fc1 = nn.Linear(48, 24)\n",
    "        self.relu1 = nn.ReLU()\n",
    "        self.fc2 = nn.Linear(24, num_classes)\n",
    "        # self.func = func\n",
    "        self.testing=testing\n",
    "        self.flatten=nn.Flatten()\n",
    "\n",
    "     def forward(self, x):\n",
    "        # print(f'input layer{x.shape}')\n",
    "        out = self.layer1(x)\n",
    "        # print(f'layer1 {out.shape}')\n",
    "        out = self.layer2(out)\n",
    "        # print(f'layer2 {out.shape}')\n",
    "        out=self.flatten(out)\n",
    "        # print(f'flatten {out.shape}')\n",
    "        out = self.fc(out)\n",
    "        # print(f'linear1 {out.shape}')\n",
    "        out = self.relu(out)\n",
    "        out = self.fc1(out)\n",
    "        # print(f'linear2 {out.shape}')\n",
    "        out = self.relu1(out)\n",
    "        embedding = self.fc2(out)\n",
    "        # print(f'final {embedding.shape}')\n",
    "        # embedding[:,4]=(math.pi/4)*(nn.Tanh()(embedding[:,4]) + 1)\n",
    "        # final=self.func(embedding)\n",
    "        \n",
    "        if self.testing==True:\n",
    "            return out, embedding, final \n",
    "        \n",
    "        # return final\n",
    "        return embedding\n",
    "\n",
    "    \n"
   ]
  },
  {
   "cell_type": "code",
   "execution_count": 4,
   "metadata": {},
   "outputs": [
    {
     "data": {
      "text/plain": [
       "LeNet5(\n",
       "  (layer1): Sequential(\n",
       "    (0): Conv2d(1, 6, kernel_size=(5, 5), stride=(1, 1))\n",
       "    (1): BatchNorm2d(6, eps=1e-05, momentum=0.1, affine=True, track_running_stats=True)\n",
       "    (2): ReLU()\n",
       "    (3): MaxPool2d(kernel_size=4, stride=4, padding=0, dilation=1, ceil_mode=False)\n",
       "  )\n",
       "  (layer2): Sequential(\n",
       "    (0): Conv2d(6, 16, kernel_size=(5, 5), stride=(1, 1))\n",
       "    (1): BatchNorm2d(16, eps=1e-05, momentum=0.1, affine=True, track_running_stats=True)\n",
       "    (2): ReLU()\n",
       "    (3): MaxPool2d(kernel_size=2, stride=2, padding=0, dilation=1, ceil_mode=False)\n",
       "  )\n",
       "  (fc): Linear(in_features=48, out_features=48, bias=True)\n",
       "  (relu): ReLU()\n",
       "  (fc1): Linear(in_features=48, out_features=24, bias=True)\n",
       "  (relu1): ReLU()\n",
       "  (fc2): Linear(in_features=24, out_features=5, bias=True)\n",
       "  (flatten): Flatten(start_dim=1, end_dim=-1)\n",
       ")"
      ]
     },
     "execution_count": 4,
     "metadata": {},
     "output_type": "execute_result"
    }
   ],
   "source": [
    "model_pytorch=LeNet5(5)\n",
    "model_pytorch.load_state_dict(torch.load('PytorchLeNet2.pt'))\n",
    "model_pytorch.eval() "
   ]
  },
  {
   "cell_type": "code",
   "execution_count": 5,
   "metadata": {},
   "outputs": [
    {
     "name": "stdout",
     "output_type": "stream",
     "text": [
      "torch.Size([1, 1, 29, 48])\n",
      "tensor([[15.2126, 14.8477, 10.9690,  7.2814,  0.4322]])\n"
     ]
    }
   ],
   "source": [
    "path = '/home/ferroelectric/RHEED_paper/m3_learning/m3_learning/papers/2023_RHEED_PLD_SrTiO3/Datasets/test6_gaussian_fit_parameters_all-04232023.h5'\n",
    "\n",
    "with h5py.File(path, 'r') as h5:\n",
    "    img = h5['growth_1']['spot_2']['raw_image'][1]\n",
    "    img= img/img.max()\n",
    "img_tensor = torch.tensor(img).unsqueeze(0).unsqueeze(0).float()\n",
    "print(img_tensor.shape)\n",
    "with torch.no_grad():\n",
    "    output_pytorch = model_pytorch(img_tensor)\n",
    "print(output_pytorch)"
   ]
  },
  {
   "cell_type": "code",
   "execution_count": 6,
   "metadata": {},
   "outputs": [
    {
     "name": "stdout",
     "output_type": "stream",
     "text": [
      "Interpreting Model ...\n",
      "Topology:\n",
      "Layer name: layer1_0, layer type: Conv2D, input shape: [[None, 1, 29, 48]]\n",
      "Layer name: layer1_1, layer type: BatchNormalization, input shape: [[None, 6, 25, 44]]\n",
      "Layer name: layer1_2, layer type: Activation, input shape: [[None, 6, 25, 44]]\n",
      "Layer name: layer1_3, layer type: MaxPooling2D, input shape: [[None, 6, 25, 44]]\n",
      "Layer name: layer2_0, layer type: Conv2D, input shape: [[None, 6, 6, 11]]\n",
      "Layer name: layer2_1, layer type: BatchNormalization, input shape: [[None, 16, 2, 7]]\n",
      "Layer name: layer2_2, layer type: Activation, input shape: [[None, 16, 2, 7]]\n",
      "Layer name: layer2_3, layer type: MaxPooling2D, input shape: [[None, 16, 2, 7]]\n",
      "Layer name: flatten, layer type: Reshape, input shape: [[None, 16, 1, 3]]\n",
      "Layer name: fc, layer type: Dense, input shape: [[None, 48]]\n",
      "Layer name: relu, layer type: Activation, input shape: [[None, 48]]\n",
      "Layer name: fc1, layer type: Dense, input shape: [[None, 48]]\n",
      "Layer name: relu1, layer type: Activation, input shape: [[None, 24]]\n",
      "Layer name: fc2, layer type: Dense, input shape: [[None, 24]]\n",
      "Creating HLS model\n",
      "WARNING: Layer layer1_0 requires \"dataflow\" pipeline style. Switching to \"dataflow\" pipeline style.\n",
      "Writing HLS project\n",
      "Done\n"
     ]
    }
   ],
   "source": [
    "\n",
    "config = hls4ml.utils.config_from_pytorch_model(model_pytorch, inputs_channel_last=True,transpose_outputs=False,default_reuse_factor=2 )\n",
    "\n",
    "model_hls = hls4ml.converters.convert_from_pytorch_model(model_pytorch, [[None,1,29,48]], hls_config=config, output_dir='my-hls-test', project_name='myproject', part='xcku035-fbva676-2-e', io_type='io_stream' )\n",
    "model_hls.compile()\n",
    "\n"
   ]
  },
  {
   "cell_type": "code",
   "execution_count": 40,
   "metadata": {},
   "outputs": [],
   "source": [
    "#To set path:\n",
    "#in terminal, write \"export PATH=/home/ferroelectric/\"\n",
    "#then \"export PATH=/home/ferroelectric/Xilinx_2018/Vivado/2018.3/bin:$PATH\"\n",
    "#and \" export PATH=/bin:/ferroelectric/bin:$PATH\"- this adds which function\n",
    "\n",
    "#to run build from the command line: vivado_hls -f build_prj.tcl \"reset=0 csim=1 synth=1 cosim=0 validation=0 vsynth=0 export=0\""
   ]
  },
  {
   "cell_type": "code",
   "execution_count": 20,
   "metadata": {},
   "outputs": [
    {
     "name": "stdout",
     "output_type": "stream",
     "text": [
      "Found 1 solution(s) in my-hls-test/myproject_prj.\n",
      "Reports for solution \"solution1\":\n",
      "\n",
      "C SIMULATION RESULT:\n",
      "INFO: [SIM 2] *************** CSIM start ***************\n",
      "INFO: [SIM 4] CSIM will launch GCC as the compiler.\n",
      "   Compiling ../../../../myproject_test.cpp in debug mode\n",
      "   Compiling ../../../../firmware/myproject.cpp in debug mode\n",
      "   Generating csim.exe\n",
      "INFO: Unable to open input/predictions file, using default input.\n",
      "WARNING: Hls::stream 'layer15_out' is read while empty, which may result in RTL simulation hanging.\n",
      "WARNING: Hls::stream 'layer15_out' is read while empty, which may result in RTL simulation hanging.\n",
      "WARNING: Hls::stream 'layer15_out' is read while empty, which may result in RTL simulation hanging.\n",
      "WARNING: Hls::stream 'layer15_out' is read while empty, which may result in RTL simulation hanging.\n",
      "WARNING: Hls::stream 'layer15_out' is read while empty, which may result in RTL simulation hanging.\n",
      "WARNING: Hls::stream 'layer15_out' is read while empty, which may result in RTL simulation hanging.\n",
      "WARNING: Hls::stream 'layer15_out' is read while empty, which may result in RTL simulation hanging.\n",
      "WARNING: Hls::stream 'layer15_out' is read while empty, which may result in RTL simulation hanging.\n",
      "WARNING: Hls::stream 'layer15_out' is read while empty, which may result in RTL simulation hanging.\n",
      "WARNING: Hls::stream 'layer15_out' is read while empty, which may result in RTL simulation hanging.\n",
      "WARNING: Hls::stream 'layer15_out' is read while empty, which may result in RTL simulation hanging.\n",
      "WARNING: Hls::stream 'layer15_out' is read while empty, which may result in RTL simulation hanging.\n",
      "WARNING: Hls::stream 'layer15_out' is read while empty, which may result in RTL simulation hanging.\n",
      "WARNING: Hls::stream 'layer15_out' is read while empty, which may result in RTL simulation hanging.\n",
      "WARNING: Hls::stream 'layer15_out' is read while empty, which may result in RTL simulation hanging.\n",
      "WARNING: Hls::stream 'layer15_out' is read while empty, which may result in RTL simulation hanging.\n",
      "WARNING: Hls::stream 'layer15_out' is read while empty, which may result in RTL simulation hanging.\n",
      "WARNING: Hls::stream 'layer15_out' is read while empty, which may result in RTL simulation hanging.\n",
      "WARNING: Hls::stream 'layer15_out' is read while empty, which may result in RTL simulation hanging.\n",
      "WARNING: Hls::stream 'layer15_out' is read while empty, which may result in RTL simulation hanging.\n",
      "WARNING: Hls::stream 'layer15_out' is read while empty, which may result in RTL simulation hanging.\n",
      "WARNING: Hls::stream 'layer15_out' is read while empty, which may result in RTL simulation hanging.\n",
      "WARNING: Hls::stream 'layer15_out' is read while empty, which may result in RTL simulation hanging.\n",
      "WARNING: Hls::stream 'layer15_out' is read while empty, which may result in RTL simulation hanging.\n",
      "WARNING: Hls::stream 'layer15_out' is read while empty, which may result in RTL simulation hanging.\n",
      "WARNING: Hls::stream 'layer15_out' is read while empty, which may result in RTL simulation hanging.\n",
      "WARNING: Hls::stream 'layer15_out' is read while empty, which may result in RTL simulation hanging.\n",
      "WARNING: Hls::stream 'layer15_out' is read while empty, which may result in RTL simulation hanging.\n",
      "WARNING: Hls::stream 'layer15_out' is read while empty, which may result in RTL simulation hanging.\n",
      "WARNING: Hls::stream 'layer15_out' is read while empty, which may result in RTL simulation hanging.\n",
      "WARNING: Hls::stream 'layer15_out' is read while empty, which may result in RTL simulation hanging.\n",
      "WARNING: Hls::stream 'layer15_out' is read while empty, which may result in RTL simulation hanging.\n",
      "WARNING: Hls::stream 'layer15_out' is read while empty, which may result in RTL simulation hanging.\n",
      "WARNING: Hls::stream 'layer15_out' is read while empty, which may result in RTL simulation hanging.\n",
      "WARNING: Hls::stream 'layer15_out' is read while empty, which may result in RTL simulation hanging.\n",
      "WARNING: Hls::stream 'layer15_out' is read while empty, which may result in RTL simulation hanging.\n",
      "WARNING: Hls::stream 'layer15_out' is read while empty, which may result in RTL simulation hanging.\n",
      "WARNING: Hls::stream 'layer15_out' is read while empty, which may result in RTL simulation hanging.\n",
      "WARNING: Hls::stream 'layer15_out' is read while empty, which may result in RTL simulation hanging.\n",
      "WARNING: Hls::stream 'layer15_out' is read while empty, which may result in RTL simulation hanging.\n",
      "WARNING: Hls::stream 'layer15_out' is read while empty, which may result in RTL simulation hanging.\n",
      "WARNING: Hls::stream 'layer15_out' is read while empty, which may result in RTL simulation hanging.\n",
      "WARNING: Hls::stream 'layer15_out' is read while empty, which may result in RTL simulation hanging.\n",
      "WARNING: Hls::stream 'layer15_out' is read while empty, which may result in RTL simulation hanging.\n",
      "WARNING: Hls::stream 'layer15_out' is read while empty, which may result in RTL simulation hanging.\n",
      "WARNING: Hls::stream 'layer16_out' contains leftover data, which may result in RTL simulation hanging.\n",
      "1.9873 1.3252 1.48145 0.849609 0.451172 1.9873 1.3252 1.48145 0.849609 0.451172 1.9873 1.3252 1.48145 0.849609 0.451172 0.503906 0.0761719 0.342773 0.286133 0.25 0.503906 0.0761719 0.342773 0.286133 0.25 0.503906 0.0761719 0.342773 0.286133 0.25 0.503906 0.0761719 0.342773 0.286133 0.25 0.503906 0.0761719 0.342773 0.286133 0.25 0.503906 0.0761719 0.342773 0.286133 0.25 0.503906 0.0761719 0.342773 0.286133 0.25 0.503906 0.0761719 0.342773 0.286133 0.25 0.503906 0.0761719 0.342773 0.286133 0.25 0.503906 0.0761719 0.342773 0.286133 0.25 0.503906 0.0761719 0.342773 0.286133 0.25 0.503906 0.0761719 0.342773 0.286133 0.25 0.503906 0.0761719 0.342773 0.286133 0.25 0.503906 0.0761719 0.342773 0.286133 0.25 0.503906 0.0761719 0.342773 0.286133 0.25 0.503906 0.0761719 0.342773 0.286133 0.25 0.503906 0.0761719 0.342773 0.286133 0.25 0.503906 0.0761719 0.342773 0.286133 0.25 0.503906 0.0761719 0.342773 0.286133 0.25 0.503906 0.0761719 0.342773 0.286133 0.25 0.503906 0.0761719 0.342773 0.286133 0.25 \n",
      "INFO: Saved inference results to file: tb_data/csim_results.log\n",
      "INFO: [SIM 1] CSim done with 0 errors.\n",
      "INFO: [SIM 3] *************** CSIM finish ***************\n",
      "\n",
      "SYNTHESIS REPORT:\n",
      "================================================================\n",
      "== Vivado HLS Report for 'myproject'\n",
      "================================================================\n",
      "* Date:           Tue Aug 15 14:46:57 2023\n",
      "\n",
      "* Version:        2018.3 (Build 2405991 on Thu Dec 06 23:56:15 MST 2018)\n",
      "* Project:        myproject_prj\n",
      "* Solution:       solution1\n",
      "* Product family: kintexu\n",
      "* Target device:  xcku035-fbva676-2-e\n",
      "\n",
      "\n",
      "================================================================\n",
      "== Performance Estimates\n",
      "================================================================\n",
      "+ Timing (ns): \n",
      "    * Summary: \n",
      "    +--------+-------+----------+------------+\n",
      "    |  Clock | Target| Estimated| Uncertainty|\n",
      "    +--------+-------+----------+------------+\n",
      "    |ap_clk  |   5.00|     4.495|        0.62|\n",
      "    +--------+-------+----------+------------+\n",
      "\n",
      "+ Latency (clock cycles): \n",
      "    * Summary: \n",
      "    +------+------+------+------+----------+\n",
      "    |   Latency   |   Interval  | Pipeline |\n",
      "    |  min |  max |  min |  max |   Type   |\n",
      "    +------+------+------+------+----------+\n",
      "    |  2913|  2913|  2790|  2790| dataflow |\n",
      "    +------+------+------+------+----------+\n",
      "\n",
      "    + Detail: \n",
      "        * Instance: \n",
      "        +------------------------------------------------------------------------+-----------------------------------------------------------------------+------+------+------+------+---------+\n",
      "        |                                                                        |                                                                       |   Latency   |   Interval  | Pipeline|\n",
      "        |                                Instance                                |                                 Module                                |  min |  max |  min |  max |   Type  |\n",
      "        +------------------------------------------------------------------------+-----------------------------------------------------------------------+------+------+------+------+---------+\n",
      "        |conv_2d_cl_array_ap_fixed_6u_array_ap_fixed_16_6_5_3_0_16u_config6_U0   |conv_2d_cl_array_ap_fixed_6u_array_ap_fixed_16_6_5_3_0_16u_config6_s   |   137|   137|   137|   137|   none  |\n",
      "        |pointwise_conv_2d_cl_array_array_ap_fixed_16_6_5_3_0_48u_config15_U0    |pointwise_conv_2d_cl_array_array_ap_fixed_16_6_5_3_0_48u_config15_s    |    11|    11|    11|    11|   none  |\n",
      "        |pointwise_conv_2d_cl_array_array_ap_fixed_16_6_5_3_0_24u_config16_U0    |pointwise_conv_2d_cl_array_array_ap_fixed_16_6_5_3_0_24u_config16_s    |   101|   101|   101|   101|   none  |\n",
      "        |pooling2d_cl_array_ap_fixed_6u_array_ap_fixed_16_6_5_3_0_6u_config5_U0  |pooling2d_cl_array_ap_fixed_6u_array_ap_fixed_16_6_5_3_0_6u_config5_s  |  1105|  1105|  1105|  1105|   none  |\n",
      "        |conv_2d_cl_array_ap_fixed_1u_array_ap_fixed_16_6_5_3_0_6u_config2_U0    |conv_2d_cl_array_ap_fixed_1u_array_ap_fixed_16_6_5_3_0_6u_config2_s    |  2789|  2789|  2789|  2789|   none  |\n",
      "        |pointwise_conv_2d_cl_array_array_ap_fixed_16_6_5_3_0_5u_config17_U0     |pointwise_conv_2d_cl_array_array_ap_fixed_16_6_5_3_0_5u_config17_s     |    53|    53|    53|    53|   none  |\n",
      "        |pooling2d_cl_array_array_ap_fixed_16_6_5_3_0_16u_config9_U0             |pooling2d_cl_array_array_ap_fixed_16_6_5_3_0_16u_config9_s             |    17|    17|    17|    17|   none  |\n",
      "        |relu_array_ap_fixed_48u_array_ap_fixed_16_6_5_3_0_16u_ReLU_config11_U0  |relu_array_ap_fixed_48u_array_ap_fixed_16_6_5_3_0_16u_ReLU_config11_s  |    51|    51|    51|    51|   none  |\n",
      "        |relu_array_ap_fixed_24u_array_ap_fixed_16_6_5_3_0_16u_ReLU_config13_U0  |relu_array_ap_fixed_24u_array_ap_fixed_16_6_5_3_0_16u_ReLU_config13_s  |    27|    27|    27|    27|   none  |\n",
      "        |relu_array_ap_fixed_16u_array_ap_fixed_16_6_5_3_0_16u_ReLU_config8_U0   |relu_array_ap_fixed_16u_array_ap_fixed_16_6_5_3_0_16u_ReLU_config8_s   |    17|    17|    17|    17|   none  |\n",
      "        |relu_array_ap_fixed_6u_array_ap_fixed_16_6_5_3_0_6u_ReLU_config4_U0     |relu_array_ap_fixed_6u_array_ap_fixed_16_6_5_3_0_6u_ReLU_config4_s     |  1103|  1103|  1103|  1103|   none  |\n",
      "        +------------------------------------------------------------------------+-----------------------------------------------------------------------+------+------+------+------+---------+\n",
      "\n",
      "        * Loop: \n",
      "        N/A\n",
      "\n",
      "\n",
      "\n",
      "================================================================\n",
      "== Utilization Estimates\n",
      "================================================================\n",
      "* Summary: \n",
      "+-----------------+---------+-------+--------+--------+\n",
      "|       Name      | BRAM_18K| DSP48E|   FF   |   LUT  |\n",
      "+-----------------+---------+-------+--------+--------+\n",
      "|DSP              |        -|      -|       -|       -|\n",
      "|Expression       |        -|      -|       0|       2|\n",
      "|FIFO             |       70|      -|    4226|    7160|\n",
      "|Instance         |        0|   1663|   61430|  142938|\n",
      "|Memory           |        -|      -|       -|       -|\n",
      "|Multiplexer      |        -|      -|       -|       -|\n",
      "|Register         |        -|      -|       -|       -|\n",
      "+-----------------+---------+-------+--------+--------+\n",
      "|Total            |       70|   1663|   65656|  150100|\n",
      "+-----------------+---------+-------+--------+--------+\n",
      "|Available        |     1080|   1700|  406256|  203128|\n",
      "+-----------------+---------+-------+--------+--------+\n",
      "|Utilization (%)  |        6|     97|      16|      73|\n",
      "+-----------------+---------+-------+--------+--------+\n",
      "\n",
      "+ Detail: \n",
      "    * Instance: \n",
      "    +------------------------------------------------------------------------+-----------------------------------------------------------------------+---------+-------+-------+-------+\n",
      "    |                                Instance                                |                                 Module                                | BRAM_18K| DSP48E|   FF  |  LUT  |\n",
      "    +------------------------------------------------------------------------+-----------------------------------------------------------------------+---------+-------+-------+-------+\n",
      "    |conv_2d_cl_array_ap_fixed_1u_array_ap_fixed_16_6_5_3_0_6u_config2_U0    |conv_2d_cl_array_ap_fixed_1u_array_ap_fixed_16_6_5_3_0_6u_config2_s    |        0|     75|   3514|   6010|\n",
      "    |conv_2d_cl_array_ap_fixed_6u_array_ap_fixed_16_6_5_3_0_16u_config6_U0   |conv_2d_cl_array_ap_fixed_6u_array_ap_fixed_16_6_5_3_0_16u_config6_s   |        0|    978|  31587|  81971|\n",
      "    |pointwise_conv_2d_cl_array_array_ap_fixed_16_6_5_3_0_24u_config16_U0    |pointwise_conv_2d_cl_array_array_ap_fixed_16_6_5_3_0_24u_config16_s    |        0|    190|   6115|  12995|\n",
      "    |pointwise_conv_2d_cl_array_array_ap_fixed_16_6_5_3_0_48u_config15_U0    |pointwise_conv_2d_cl_array_array_ap_fixed_16_6_5_3_0_48u_config15_s    |        0|    380|  11361|  25204|\n",
      "    |pointwise_conv_2d_cl_array_array_ap_fixed_16_6_5_3_0_5u_config17_U0     |pointwise_conv_2d_cl_array_array_ap_fixed_16_6_5_3_0_5u_config17_s     |        0|     40|   1622|   3286|\n",
      "    |pooling2d_cl_array_ap_fixed_6u_array_ap_fixed_16_6_5_3_0_6u_config5_U0  |pooling2d_cl_array_ap_fixed_6u_array_ap_fixed_16_6_5_3_0_6u_config5_s  |        0|      0|   4555|   7734|\n",
      "    |pooling2d_cl_array_array_ap_fixed_16_6_5_3_0_16u_config9_U0             |pooling2d_cl_array_array_ap_fixed_16_6_5_3_0_16u_config9_s             |        0|      0|   1746|   2408|\n",
      "    |relu_array_ap_fixed_16u_array_ap_fixed_16_6_5_3_0_16u_ReLU_config8_U0   |relu_array_ap_fixed_16u_array_ap_fixed_16_6_5_3_0_16u_ReLU_config8_s   |        0|      0|    270|    855|\n",
      "    |relu_array_ap_fixed_24u_array_ap_fixed_16_6_5_3_0_16u_ReLU_config13_U0  |relu_array_ap_fixed_24u_array_ap_fixed_16_6_5_3_0_16u_ReLU_config13_s  |        0|      0|    271|    932|\n",
      "    |relu_array_ap_fixed_48u_array_ap_fixed_16_6_5_3_0_16u_ReLU_config11_U0  |relu_array_ap_fixed_48u_array_ap_fixed_16_6_5_3_0_16u_ReLU_config11_s  |        0|      0|    272|   1148|\n",
      "    |relu_array_ap_fixed_6u_array_ap_fixed_16_6_5_3_0_6u_ReLU_config4_U0     |relu_array_ap_fixed_6u_array_ap_fixed_16_6_5_3_0_6u_ReLU_config4_s     |        0|      0|    117|    395|\n",
      "    +------------------------------------------------------------------------+-----------------------------------------------------------------------+---------+-------+-------+-------+\n",
      "    |Total                                                                   |                                                                       |        0|   1663|  61430| 142938|\n",
      "    +------------------------------------------------------------------------+-----------------------------------------------------------------------+---------+-------+-------+-------+\n",
      "\n",
      "CO-SIMULATION RESULT:\n",
      "Report time       : Tue 15 Aug 2023 01:55:01 PM EDT.\n",
      "Solution          : solution1.\n",
      "\n",
      "+----------+----------+-----------------------------------------------+-----------------------------------------------+\n",
      "|          |          |                    Latency                    |                    Interval                   |\n",
      "+   RTL    +  Status  +-----------------------------------------------+-----------------------------------------------+\n",
      "|          |          |      min      |      avg      |      max      |      min      |      avg      |      max      |\n",
      "+----------+----------+-----------------------------------------------+-----------------------------------------------+\n",
      "|      VHDL|        NA|             NA|             NA|             NA|             NA|             NA|             NA|\n",
      "|   Verilog|      Fail|             NA|             NA|             NA|             NA|             NA|             NA|\n",
      "+----------+----------+-----------------------------------------------+-----------------------------------------------+\n",
      "\n"
     ]
    }
   ],
   "source": [
    "hls4ml.report.read_vivado_report('my-hls-test')"
   ]
  },
  {
   "cell_type": "code",
   "execution_count": 2,
   "metadata": {},
   "outputs": [],
   "source": [
    "#HLS Predict --> save results --> put into tb_output_predictions---> .savetext function ---> every 5 values on a new line\n",
    "#Space deliminated\n",
    "#input features-greyscale image--> reshape/flatten them, each on a new line --> one image worth of values on each line--> numpy.savetext \n",
    "\n",
    "#manually compare CSIM results and HLS Results "
   ]
  },
  {
   "cell_type": "code",
   "execution_count": 48,
   "metadata": {},
   "outputs": [
    {
     "name": "stdout",
     "output_type": "stream",
     "text": [
      "[11.47167969 14.06835938 13.08789062  7.0625      1.16308594]\n"
     ]
    }
   ],
   "source": [
    "import h5py\n",
    "import matplotlib.pyplot as plt\n",
    "import numpy as np\n",
    "\n",
    "def gaussian(img_dim,params):\n",
    "    params=np.array(params)\n",
    "    mean_x, mean_y, cov_x, cov_y, theta = params\n",
    "    \n",
    "    x = np.arange(img_dim[1], dtype=np.float32)\n",
    "    y = np.arange(img_dim[0], dtype=np.float32)\n",
    "    x, y = np.meshgrid(x, y)\n",
    "\n",
    "    x = np.expand_dims(x, axis=0)\n",
    "    y = np.expand_dims(y, axis=0)\n",
    "\n",
    "    x = np.repeat(x, 1, axis=0)\n",
    "    y = np.repeat(y, 1, axis=0)\n",
    "\n",
    "    rota_matrix = np.array([[np.cos(theta), -np.sin(theta)], [np.sin(theta), np.cos(theta)]])\n",
    "    rota_matrix = np.reshape(rota_matrix, (1, 2, 2))\n",
    "\n",
    "    xy = np.stack([x - mean_x, y - mean_y], axis=-1)\n",
    "    xy = np.einsum('bijk,bkl->bijl', xy, rota_matrix)\n",
    "\n",
    "    img = np.exp(-0.5 * (xy[:, :, :, 0]**2 / (cov_x**2) + xy[:, :, :, 1]**2 / (cov_y**2)))\n",
    "    return img[0,:,:]\n",
    "\n",
    "\n",
    "path = '/home/ferroelectric/RHEED_paper/m3_learning/m3_learning/papers/2023_RHEED_PLD_SrTiO3/Datasets/test6_gaussian_fit_parameters_all-04232023.h5'\n",
    "\n",
    "with h5py.File(path, 'r') as h5:\n",
    "    data = h5['growth_4']['spot_2']['raw_image'][1]\n",
    "\n",
    "# Reshape the data to (1, 1, 29, 48)\n",
    "data=data/255.0\n",
    "data_reshaped = data.reshape((1, 29, 48, 1))\n",
    "# data= torch.tensor(np.float32(data)).cuda()\n",
    "\n",
    "y=model_hls.predict(data_reshaped)\n",
    "\n",
    "\n",
    "print(y)\n"
   ]
  },
  {
   "cell_type": "code",
   "execution_count": 49,
   "metadata": {},
   "outputs": [
    {
     "name": "stdout",
     "output_type": "stream",
     "text": [
      "0.08276604494835305\n"
     ]
    }
   ],
   "source": [
    "import numpy as np\n",
    "# from sklearn.metrics import mean_squared_error\n",
    "mse=np.square(np.subtract(data, gaussian((29,48),y))).mean()\n",
    "\n",
    "\n",
    "print(mse)"
   ]
  },
  {
   "cell_type": "code",
   "execution_count": 50,
   "metadata": {},
   "outputs": [
    {
     "data": {
      "image/png": "[encoded data removed]",
      "text/plain": [
       "<Figure size 1200x400 with 4 Axes>"
      ]
     },
     "metadata": {},
     "output_type": "display_data"
    }
   ],
   "source": [
    "fig, axs = plt.subplots(1, 2, figsize=(12, 4))\n",
    "im0 = axs[0].imshow(data)\n",
    "axs[0].set_title(f'True')\n",
    "axs[0].set_xlabel('X')\n",
    "axs[0].set_ylabel('Y')\n",
    "fig.colorbar(im0, ax=axs[0])\n",
    "\n",
    "    # Plot predicted image\n",
    "im1 = axs[1].imshow(gaussian((29,48),y))\n",
    "axs[1].set_title(f'Predicted')\n",
    "axs[1].set_xlabel('X')\n",
    "axs[1].set_ylabel('Y')\n",
    "fig.colorbar(im1, ax=axs[1])\n",
    "\n",
    "plt.tight_layout()\n",
    "plt.show()"
   ]
  },
  {
   "cell_type": "code",
   "execution_count": 57,
   "metadata": {},
   "outputs": [
    {
     "name": "stdout",
     "output_type": "stream",
     "text": [
      "Data saved successfully.\n"
     ]
    }
   ],
   "source": [
    "import h5py\n",
    "import numpy as np\n",
    "\n",
    "# Load images from HDF5 file\n",
    "def load_images_from_hdf5(hdf5_filename):\n",
    "    with h5py.File(hdf5_filename, 'r') as hdf5_file:\n",
    "        images = hdf5_file['growth_1']['spot_2']['raw_image'][:]  # Adjust the dataset name as per your file structure\n",
    "    return images\n",
    "\n",
    "\n",
    "# Normalize and flatten images\n",
    "def preprocess_images(images):\n",
    "    normalized_images = images / 255.0  # Normalize pixel values to [0, 1]\n",
    "    \n",
    "    flattened_images = normalized_images.reshape(images.shape[0], -1)\n",
    "    return flattened_images\n",
    "\n",
    "path = '/home/ferroelectric/RHEED_paper/m3_learning/m3_learning/papers/2023_RHEED_PLD_SrTiO3/Datasets/test6_gaussian_fit_parameters_all-04232023.h5'\n",
    "# Load images from HDF5 file\n",
    "input_images = load_images_from_hdf5(path)\n",
    "\n",
    "# Preprocess images\n",
    "preprocessed_images = preprocess_images(input_images)\n",
    "\n",
    "# Generate HLS predictions\n",
    "hls_predictions = []\n",
    "for image in preprocessed_images:\n",
    "    prediction = model_hls.predict(np.array([image]))  # Assuming predict method takes a batch of images\n",
    "    hls_predictions.append(prediction)\n",
    "\n",
    "# Save preprocessed images and HLS predictions\n",
    "with open('./my-hls-test/tb_data/tb_input_features.dat', 'w') as img_file, \\\n",
    "     open('./my-hls-test/tb_data/tb_output_predictions.dat', 'w') as pred_file:\n",
    "     for image, prediction in zip(preprocessed_images, hls_predictions):\n",
    "        img_line = ' '.join(map(str, image))\n",
    "        pred_line = ' '.join(map(str, prediction))\n",
    "        img_file.write(img_line + '\\n')\n",
    "        pred_file.write(pred_line + '\\n')\n",
    "\n",
    "print(\"Data saved successfully.\")\n",
    "\n",
    "\n"
   ]
  },
  {
   "cell_type": "code",
   "execution_count": null,
   "metadata": {},
   "outputs": [],
   "source": []
  }
 ],
 "metadata": {
  "kernelspec": {
   "display_name": "Python 3 (ipykernel)",
   "language": "python",
   "name": "python3"
  },
  "language_info": {
   "codemirror_mode": {
    "name": "ipython",
    "version": 3
   },
   "file_extension": ".py",
   "mimetype": "text/x-python",
   "name": "python",
   "nbconvert_exporter": "python",
   "pygments_lexer": "ipython3",
   "version": "3.8.10"
  }
 },
 "nbformat": 4,
 "nbformat_minor": 2
}
